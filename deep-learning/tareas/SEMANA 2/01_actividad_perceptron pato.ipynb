{
  "cells": [
    {
      "cell_type": "markdown",
      "metadata": {
        "id": "RIBSdHrLY9o1"
      },
      "source": [
        "# El perceptrón\n",
        "\n",
        "> Profesor Jorge Anais\n",
        "\n",
        "Como vimos en clase, el perceptrón es un modelo muy sencillo. En este notebook implementaremos un perceptrón y revisaremos algunos casos notables."
      ]
    },
    {
      "cell_type": "markdown",
      "metadata": {
        "id": "LnU3k_iiY9o4"
      },
      "source": [
        "## Un perceptrón sencillo en Python\n",
        "\n",
        "Primero definimos la función de activación"
      ]
    },
    {
      "cell_type": "code",
      "execution_count": 1,
      "metadata": {
        "id": "DaWknYOxY9o5"
      },
      "outputs": [],
      "source": [
        "def fn_activacion(u: float) -> float:\n",
        "    \"\"\"\n",
        "    Función de activación simple.\n",
        "    Retorna 1 si el valor de `u` es mayor o igual a 1.\n",
        "    En caso contrario retorna 0.\n",
        "    \"\"\"\n",
        "\n",
        "    return 1.0 if u >=1.0 else 0.0"
      ]
    },
    {
      "cell_type": "markdown",
      "metadata": {
        "id": "ODa41eJ3Y9o6"
      },
      "source": [
        "Luego definimos el perceptrón\n",
        "\n",
        "![Perceptron](https://github.com/jorgeanais/dly0100_deeplearning/blob/main/notebooks/imagenes/01_2/perceptron.png?raw=true)"
      ]
    },
    {
      "cell_type": "code",
      "execution_count": 2,
      "metadata": {
        "id": "CE3L0yleY9o6"
      },
      "outputs": [],
      "source": [
        "def perceptron(x1: float, x2: float) -> float:\n",
        "    \"\"\"\n",
        "    Calcula la salida del perceptrón donde\n",
        "    x1, x2 son las entradas\n",
        "    W1, W2 son los pesos\n",
        "    B es el sesgo (bias)\n",
        "    \"\"\"\n",
        "    W1 = 0.4\n",
        "    W2 = 0.4\n",
        "    B = 0.4\n",
        "\n",
        "    return fn_activacion(x1*W1 + x2*W2 + B)"
      ]
    },
    {
      "cell_type": "markdown",
      "metadata": {
        "id": "cHSnA2_DY9o7"
      },
      "source": [
        "Notar que el perceptrón fue definido con pesos arbitrarios (W1, W2 y B iguales a 0.4). Dependiendo de los pesos, el perceptrón puede ser capaz de resolver distintos problemas linealmente separables."
      ]
    },
    {
      "cell_type": "markdown",
      "metadata": {
        "id": "R_DUfQoxY9o7"
      },
      "source": [
        "## Caso compuerta AND\n",
        "\n",
        "![Compuerta AND](https://raw.githubusercontent.com/jorgeanais/dly0100_deeplearning/main/notebooks/imagenes/01_2/compuerta_AND.png?raw=true)"
      ]
    },
    {
      "cell_type": "code",
      "execution_count": 3,
      "metadata": {
        "id": "fz7eWmwuY9o7"
      },
      "outputs": [],
      "source": [
        "# Escribe tu código aquí para evaluar el perceptrón con las entradas requeridas en la tabla\n",
        "\n"
      ]
    },
    {
      "cell_type": "markdown",
      "metadata": {
        "id": "xXvtslRQY9o7"
      },
      "source": [
        "Completa la siguiente tabla con los valores de las entradas y la salida esperada\n",
        "\n",
        "| x1 | x2 | Valor Esperado | Valor obtenido |\n",
        "|----|----|----------------|----------------|\n",
        "| 0  | 0  | 0              |       x       |\n",
        "| 1  | 0  | 0              |       x       |\n",
        "| 0  | 1  | 0              |       x       |\n",
        "| 1  | 1  | 1              |       x       |"
      ]
    },
    {
      "cell_type": "markdown",
      "metadata": {
        "id": "RMNXQCtkY9o8"
      },
      "source": [
        "## Caso compuerta OR\n",
        "![Compuerta OR](https://github.com/jorgeanais/dly0100_deeplearning/blob/main/notebooks/imagenes/01_2/compuerta_OR.png?raw=true)"
      ]
    },
    {
      "cell_type": "markdown",
      "metadata": {
        "id": "a3u9BhLzY9o8"
      },
      "source": [
        "Cambia los pesos del perceptrón para que resuelva la compuerta OR. Completa la siguiente tabla con los valores de las entradas y la salida esperada\n",
        "\n",
        "| x1 | x2 | Valor Esperado | Valor obtenido |\n",
        "|----|----|----------------|----------------|\n",
        "| 0  | 0  | 0              |                |\n",
        "| 1  | 0  | 1              |                |\n",
        "| 0  | 1  | 1              |                |\n",
        "| 1  | 1  | 1              |                |"
      ]
    },
    {
      "cell_type": "code",
      "execution_count": 4,
      "metadata": {
        "id": "1WGH5cfHY9o8"
      },
      "outputs": [],
      "source": [
        "# Modifica los pesos de esta función\n",
        "\n",
        "def perceptron_OR(x1: float, x2: float) -> float:\n",
        "    \"\"\"\n",
        "    Calcula la salida del perceptrón donde\n",
        "    x1, x2 son las entradas\n",
        "    W1, W2 son los pesos\n",
        "    B es el sesgo (bias)\n",
        "    \"\"\"\n",
        "    W1 = ...\n",
        "    W2 = ...\n",
        "    B = ...\n",
        "\n",
        "    return fn_activacion(x1*W1 + x2*W2 + B)"
      ]
    },
    {
      "cell_type": "code",
      "execution_count": 5,
      "metadata": {
        "id": "9aSuRMmPY9o8"
      },
      "outputs": [
        {
          "ename": "TypeError",
          "evalue": "unsupported operand type(s) for *: 'int' and 'ellipsis'",
          "output_type": "error",
          "traceback": [
            "\u001b[1;31m---------------------------------------------------------------------------\u001b[0m",
            "\u001b[1;31mTypeError\u001b[0m                                 Traceback (most recent call last)",
            "Cell \u001b[1;32mIn[5], line 4\u001b[0m\n\u001b[0;32m      2\u001b[0m \u001b[38;5;28;01mfor\u001b[39;00m x1 \u001b[38;5;129;01min\u001b[39;00m [\u001b[38;5;241m0\u001b[39m, \u001b[38;5;241m1\u001b[39m]:\n\u001b[0;32m      3\u001b[0m     \u001b[38;5;28;01mfor\u001b[39;00m x2 \u001b[38;5;129;01min\u001b[39;00m [\u001b[38;5;241m0\u001b[39m, \u001b[38;5;241m1\u001b[39m]:\n\u001b[1;32m----> 4\u001b[0m         \u001b[38;5;28mprint\u001b[39m(\u001b[38;5;124mf\u001b[39m\u001b[38;5;124m\"\u001b[39m\u001b[38;5;124mEntradas: \u001b[39m\u001b[38;5;132;01m{\u001b[39;00mx1\u001b[38;5;132;01m}\u001b[39;00m\u001b[38;5;124m, \u001b[39m\u001b[38;5;132;01m{\u001b[39;00mx2\u001b[38;5;132;01m}\u001b[39;00m\u001b[38;5;124m -> Salida: \u001b[39m\u001b[38;5;132;01m{\u001b[39;00m\u001b[43mperceptron_OR\u001b[49m\u001b[43m(\u001b[49m\u001b[43mx1\u001b[49m\u001b[43m,\u001b[49m\u001b[38;5;250;43m \u001b[39;49m\u001b[43mx2\u001b[49m\u001b[43m)\u001b[49m\u001b[38;5;132;01m}\u001b[39;00m\u001b[38;5;124m\"\u001b[39m)\n",
            "Cell \u001b[1;32mIn[4], line 14\u001b[0m, in \u001b[0;36mperceptron_OR\u001b[1;34m(x1, x2)\u001b[0m\n\u001b[0;32m     11\u001b[0m W2 \u001b[38;5;241m=\u001b[39m \u001b[38;5;241m.\u001b[39m\u001b[38;5;241m.\u001b[39m\u001b[38;5;241m.\u001b[39m\n\u001b[0;32m     12\u001b[0m B \u001b[38;5;241m=\u001b[39m \u001b[38;5;241m.\u001b[39m\u001b[38;5;241m.\u001b[39m\u001b[38;5;241m.\u001b[39m\n\u001b[1;32m---> 14\u001b[0m \u001b[38;5;28;01mreturn\u001b[39;00m fn_activacion(\u001b[43mx1\u001b[49m\u001b[38;5;241;43m*\u001b[39;49m\u001b[43mW1\u001b[49m \u001b[38;5;241m+\u001b[39m x2\u001b[38;5;241m*\u001b[39mW2 \u001b[38;5;241m+\u001b[39m B)\n",
            "\u001b[1;31mTypeError\u001b[0m: unsupported operand type(s) for *: 'int' and 'ellipsis'"
          ]
        }
      ],
      "source": [
        "# Corre esta celda para comprobar tu código\n",
        "for x1 in [0, 1]:\n",
        "    for x2 in [0, 1]:\n",
        "        print(f\"Entradas: {x1}, {x2} -> Salida: {perceptron_OR(x1, x2)}\")"
      ]
    },
    {
      "cell_type": "markdown",
      "metadata": {
        "id": "SXi2RCW4Y9o9"
      },
      "source": [
        "Nota: Como podrán darse cuenta es muy difícil adivinar cuales son los pesos correctos. Más adelante veremos como podemos resolver este problema.\n"
      ]
    },
    {
      "cell_type": "markdown",
      "metadata": {
        "id": "jFazldElY9o9"
      },
      "source": [
        "## Caso compuerta XOR"
      ]
    },
    {
      "cell_type": "markdown",
      "metadata": {
        "id": "v7J2r0wVY9o9"
      },
      "source": [
        "Como vimos en clases, el caso de la compuerta XOR no es linealmente separable. Para resolverlo, necesitamos una red neuronal con más de una capa.\n",
        "\n",
        "![Compuerta OR](https://github.com/jorgeanais/dly0100_deeplearning/blob/main/notebooks/imagenes/01_2/compuerta_XOR.png?raw=true)"
      ]
    },
    {
      "cell_type": "code",
      "execution_count": null,
      "metadata": {
        "id": "IrycvNLxY9o9"
      },
      "outputs": [],
      "source": [
        "def perceptron_1(x1: float, x2: float) -> float:\n",
        "    \"\"\"\n",
        "    Calcula la salida del perceptrón donde\n",
        "    x1, x2 son las entradas\n",
        "    W1, W2 son los pesos\n",
        "    B es el sesgo (bias)\n",
        "    \"\"\"\n",
        "    W1 = ...\n",
        "    W2 = ...\n",
        "    B = ...\n",
        "\n",
        "    return fn_activacion(x1*W1 + x2*W2 + B)\n",
        "\n",
        "\n",
        "def perceptron_2(x1: float, x2: float) -> float:\n",
        "    \"\"\"\n",
        "    Calcula la salida del perceptrón donde\n",
        "    x1, x2 son las entradas\n",
        "    W1, W2 son los pesos\n",
        "    B es el sesgo (bias)\n",
        "    \"\"\"\n",
        "    W1 = ...\n",
        "    W2 = ...\n",
        "    B = ...\n",
        "\n",
        "    return fn_activacion(x1*W1 + x2*W2 + B)\n"
      ]
    },
    {
      "cell_type": "code",
      "execution_count": null,
      "metadata": {
        "id": "JI8ImGd-Y9o9"
      },
      "outputs": [],
      "source": [
        "def combinacion(x1: float, x2: float) -> float:\n",
        "    \"\"\"Esta funcion es la suma de los dos perceptrones anteriores\"\"\"\n",
        "    return fn_activacion(perceptron_1(x1, x2) + perceptron_2(x1, x2))"
      ]
    },
    {
      "cell_type": "code",
      "execution_count": null,
      "metadata": {
        "id": "itevKf2xY9o9"
      },
      "outputs": [],
      "source": [
        "# Corre esta celda para comprobar tu código\n",
        "for x1 in [0, 1]:\n",
        "    for x2 in [0, 1]:\n",
        "        print(f\"Entradas: {x1}, {x2} -> Salida: {combinacion(x1, x2)}\")"
      ]
    },
    {
      "cell_type": "markdown",
      "metadata": {
        "id": "Hid0pcIxY9o9"
      },
      "source": [
        "Como puedes comprobar, obtenemos el resultado deseado."
      ]
    },
    {
      "cell_type": "markdown",
      "metadata": {
        "id": "o-5kK_lmY9o9"
      },
      "source": [
        "# Contenido Extra"
      ]
    },
    {
      "cell_type": "markdown",
      "metadata": {
        "id": "HAxCpSkEY9o9"
      },
      "source": [
        "El script `01_perceptron_Rosenblatt.py` contiene una implementación del perceptrón de Rosenblatt.\n",
        "\n",
        "Dentro de la función main() esta implementado un algoritmo para determinar automaticamente los pesos. Prueba a cambiar la `salida deseada` en la variable `CONJUNTO_ENTRENAMIENTO` (linea 23).\n",
        "\n"
      ]
    },
    {
      "cell_type": "code",
      "execution_count": null,
      "metadata": {
        "id": "mR-S7SfMh7_T"
      },
      "outputs": [],
      "source": [
        "\"\"\"\n",
        "El perceptron de Rosenblatt\n",
        "Autor: Jorge Anais\n",
        "Fecha: 18 de marzo de 2023\n",
        "\n",
        "Ejercicios:\n",
        "1. Estudia que sucede al disminuir o aumentar la tasa de aprendizaje.\n",
        "2. Modifica el código para que variar los valores iniciales de los pesos y sesgo [w1, w2, b]\n",
        "3. Modifica el código para que el perceptrón de Rosenblatt aprenda la función OR.\n",
        "4. Modifica el código para que el perceptrón de Rosenblatt aprenda la función XOR ¿Es posible?\n",
        "5. Agrega más ejemplos al conjunto de entrenamiento.\n",
        "\"\"\"\n",
        "\n",
        "\n",
        "import numpy as np\n",
        "import matplotlib.pyplot as plt\n",
        "\n",
        "# PARAMETROS\n",
        "MAX_EPOCAS = 3000  # Número máximo de épocas\n",
        "UMBRAL = 1.0  # Umbral de activación\n",
        "TASA_APRENDIZAJE = 0.1  # Hiperpárametro\n",
        "PESOS = [0.0, 0.0, 0.0]  # valores iniciales de [w1, w2, b]\n",
        "CONJUNTO_ENTRENAMIENTO = [\n",
        "    # ((x1, x2, 1.), salida_deseada)\n",
        "    ((0.0, 0.0, 1.0), 0.0),\n",
        "    ((0.0, 1.0, 1.0), 1.0),\n",
        "    ((1.0, 0.0, 1.0), 1.0),\n",
        "    ((1.0, 1.0, 1.0), 1.0),\n",
        "]\n",
        "\n",
        "\n",
        "def producto(entradas, pesos):\n",
        "    \"\"\"\n",
        "    Realiza la operación de producto punto:\n",
        "      w1*x1 + w2*x2 + b*1.0\n",
        "    \"\"\"\n",
        "    return sum(entrada * peso for entrada, peso in zip(entradas, pesos))\n",
        "\n",
        "\n",
        "def grafica(conjunto_de_entrenamiento, pesos, epoca):\n",
        "    \"\"\"\n",
        "    Grafica el conjunto de entrenamiento y la linea de separacion\n",
        "    \"\"\"\n",
        "\n",
        "    # Creamos la linea de separacion\n",
        "    x1 = np.linspace(-0.2, 1.2, 100)\n",
        "    x2 = UMBRAL / pesos[1] - pesos[0] / pesos[1] * x1 - pesos[2] / pesos[1]\n",
        "\n",
        "    # Graficamos la linea de separacion\n",
        "    plt.plot(\n",
        "        x1,\n",
        "        x2,\n",
        "        label=f\"w1={pesos[0]:.2f} w2={pesos[1]:.2f} b={pesos[2]:.2f} iteración={epoca}\",\n",
        "    )\n",
        "\n",
        "    # Graficamos los casos\n",
        "    for muestra in conjunto_de_entrenamiento:\n",
        "        plt.scatter(\n",
        "            muestra[0][0],\n",
        "            muestra[0][1],\n",
        "            c=\"g\" if muestra[1] == 1 else \"r\",\n",
        "            marker=\"o\" if muestra[1] == 1 else \"x\",\n",
        "        )\n",
        "\n",
        "    # Ajustamos el rango a mostrar\n",
        "    plt.xlim(-0.2, 1.2)\n",
        "    plt.ylim(-0.2, 1.2)\n",
        "    plt.legend(loc=\"upper left\")\n",
        "    plt.show()\n",
        "\n",
        "\n",
        "def main():\n",
        "    for epoca in range(MAX_EPOCAS):\n",
        "        print(\"-\" * 26 + f\"Época {epoca}\" + \"-\" * 26)\n",
        "        contador_de_errores = 0\n",
        "\n",
        "        for vector_de_entrada, salida_deseada in CONJUNTO_ENTRENAMIENTO:\n",
        "            resultado = producto(vector_de_entrada, PESOS) >= UMBRAL\n",
        "            error = salida_deseada - resultado\n",
        "            if error != 0:\n",
        "                contador_de_errores += 1\n",
        "                for indice, valor in enumerate(vector_de_entrada):\n",
        "                    PESOS[indice] += TASA_APRENDIZAJE * error * valor\n",
        "\n",
        "        print(PESOS)\n",
        "        print(contador_de_errores)\n",
        "        grafica(CONJUNTO_ENTRENAMIENTO, PESOS, epoca)\n",
        "\n",
        "        if contador_de_errores == 0:\n",
        "            break\n",
        "\n",
        "\n",
        "\n",
        "\n",
        "if __name__ == \"__main__\":\n",
        "    main()\n"
      ]
    },
    {
      "cell_type": "code",
      "execution_count": null,
      "metadata": {
        "id": "bNnFjgl1GGs-"
      },
      "outputs": [],
      "source": [
        "# Ejemplo\n",
        "def perceptron_3(x1: float, x2: float) -> float:\n",
        "    \"\"\"\n",
        "    Calcula la salida del perceptrón donde\n",
        "    x1, x2 son las entradas\n",
        "    W1, W2 son los pesos\n",
        "    B es el sesgo (bias)\n",
        "    \"\"\"\n",
        "    W1 = 0.4\n",
        "    W2 = 0.4\n",
        "    B = 0.7\n",
        "\n",
        "    return fn_activacion(x1*W1 + x2*W2 + B)"
      ]
    },
    {
      "cell_type": "code",
      "execution_count": null,
      "metadata": {
        "id": "A6CRFL04HzJj"
      },
      "outputs": [],
      "source": [
        "perceptron_3(0.8, 0.8)"
      ]
    },
    {
      "cell_type": "code",
      "execution_count": null,
      "metadata": {
        "id": "6QQ8X2dVH20p"
      },
      "outputs": [],
      "source": []
    }
  ],
  "metadata": {
    "colab": {
      "provenance": []
    },
    "kernelspec": {
      "display_name": "Python 3",
      "language": "python",
      "name": "python3"
    },
    "language_info": {
      "codemirror_mode": {
        "name": "ipython",
        "version": 3
      },
      "file_extension": ".py",
      "mimetype": "text/x-python",
      "name": "python",
      "nbconvert_exporter": "python",
      "pygments_lexer": "ipython3",
      "version": "3.12.8"
    },
    "orig_nbformat": 4
  },
  "nbformat": 4,
  "nbformat_minor": 0
}
